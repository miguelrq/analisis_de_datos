{
 "cells": [
  {
   "cell_type": "code",
   "execution_count": 50,
   "metadata": {},
   "outputs": [
    {
     "data": {
      "text/html": [
       "<style>.container { width:100% !important; }</style>"
      ],
      "text/plain": [
       "<IPython.core.display.HTML object>"
      ]
     },
     "metadata": {},
     "output_type": "display_data"
    }
   ],
   "source": [
    "from IPython.core.display import display, HTML\n",
    "display(HTML(\"<style>.container { width:100% !important; }</style>\"))"
   ]
  },
  {
   "cell_type": "code",
   "execution_count": 51,
   "metadata": {},
   "outputs": [],
   "source": [
    "import time\n",
    "import datetime\n",
    "import re\n",
    "import urllib\n",
    "from bs4 import BeautifulSoup\n",
    "from random import randint"
   ]
  },
  {
   "cell_type": "code",
   "execution_count": 52,
   "metadata": {},
   "outputs": [],
   "source": [
    "initial_date_str = '1 Jan 2018'\n",
    "initial_date = datetime.datetime.strptime(initial_date_str, '%d %b %Y')\n",
    "final_date_str = '13 Jun 2018'\n",
    "\n",
    "final_date = datetime.datetime.strptime(final_date_str, '%d %b %Y')\n",
    "current_date = initial_date"
   ]
  },
  {
   "cell_type": "code",
   "execution_count": 53,
   "metadata": {},
   "outputs": [],
   "source": [
    "tweets_list = []\n",
    "while current_date < final_date :        \n",
    "    aux_list = open('Tweets/' + current_date.strftime(\"%Y-%m-%d\") + '_trump.txt',encoding='UTF-8').read().split('\\n')\n",
    "    aux_list = [current_date.strftime(\"%Y-%m-%d\") + ', ' + row for row in aux_list]\n",
    "    tweets_list.extend(aux_list)\n",
    "    current_date = current_date + datetime.timedelta(days=1)"
   ]
  },
  {
   "cell_type": "code",
   "execution_count": 54,
   "metadata": {},
   "outputs": [
    {
     "data": {
      "text/plain": [
       "'2018-04-15, JTStevison, https://twitter.com/JTStevison/status/985656472687259649, 1, 11, 4, Perfect. <img class=\"Emoji Emoji--forText\" src=\"https://abs.twimg.com/emoji/v2/72x72/1f602.png\" draggable=\"false\" alt=\"😂\" title=\"Face with tears of joy\" aria-label=\"Emoji: Face with tears of joy\"><img class=\"Emoji Emoji--forText\" src=\"https://abs.twimg.com/emoji/v2/72x72/1f602.png\" draggable=\"false\" alt=\"😂\" title=\"Face with tears of joy\" aria-label=\"Emoji: Face with tears of joy\"><a href=\"/hashtag/DonaldTrump?src=hash\" data-query-source=\"hashtag_click\" class=\"twitter-hashtag pretty-link js-nav\" dir=\"ltr\"><s>#</s><b><strong>DonaldTrump</strong></b></a> <a href=\"/hashtag/Syria?src=hash\" data-query-source=\"hashtag_click\" class=\"twitter-hashtag pretty-link js-nav\" dir=\"ltr\"><s>#</s><b>Syria</b></a> <a href=\"/hashtag/SyrianStrikes?src=hash\" data-query-source=\"hashtag_click\" class=\"twitter-hashtag pretty-link js-nav\" dir=\"ltr\"><s>#</s><b>SyrianStrikes</b></a> <a href=\"/hashtag/Trump?src=hash\" data-query-source=\"hashtag_click\" class=\"twitter-hashtag pretty-link js-nav\" dir=\"ltr\"><s>#</s><b>Trump</b></a> <a href=\"/hashtag/Memes?src=hash\" data-query-source=\"hashtag_click\" class=\"twitter-hashtag pretty-link js-nav\" dir=\"ltr\"><s>#</s><b>Memes</b></a> <a href=\"/hashtag/DankMemes?src=hash\" data-query-source=\"hashtag_click\" class=\"twitter-hashtag pretty-link js-nav\" dir=\"ltr\"><s>#</s><b>DankMemes</b></a><a href=\"https://t.co/vybPxrdw5p\" class=\"twitter-timeline-link u-hidden\" data-pre-embedded=\"true\" dir=\"ltr\">pic.twitter.com/vybPxrdw5p</a>'"
      ]
     },
     "execution_count": 54,
     "metadata": {},
     "output_type": "execute_result"
    }
   ],
   "source": [
    "tweets_list[6500]"
   ]
  },
  {
   "cell_type": "code",
   "execution_count": 55,
   "metadata": {},
   "outputs": [],
   "source": [
    "def add_space_between_a_tags(html):\n",
    "    pos_1 = html.find('<a')\n",
    "    while pos_1 != -1:\n",
    "        html = html[:pos_1] + ' ' + html[pos_1:]\n",
    "        pos_1 = html.find('<a',pos_1+2)\n",
    "        \n",
    "    pos_1 = html.find('</a>')\n",
    "    while pos_1 != -1:\n",
    "        html = html[:pos_1+4] + ' ' + html[pos_1+4:]\n",
    "        #if len(html) == html.find('</a>',pos_1 + 4)\n",
    "        pos_1 = html.find('</a>',pos_1+4)\n",
    "        \n",
    "    return html"
   ]
  },
  {
   "cell_type": "code",
   "execution_count": 56,
   "metadata": {},
   "outputs": [
    {
     "name": "stdout",
     "output_type": "stream",
     "text": [
      "2018-06-09, reggaerapstarCP, https://twitter.com/reggaerapstarCP/status/1005393266530021379, 0, 1, 3, Remember this?This This  <a href=\"/hashtag/Original?src=hash\" data-query-source=\"hashtag_click\" class=\"twitter-hashtag pretty-link js-nav\" dir=\"ltr\"><s>#</s><b>Original</b></a>   <a href=\"/hashtag/hand?src=hash\" data-query-source=\"hashtag_click\" class=\"twitter-hashtag pretty-link js-nav\" dir=\"ltr\"><s>#</s><b>hand</b></a>   <a href=\"/hashtag/painting?src=hash\" data-query-source=\"hashtag_click\" class=\"twitter-hashtag pretty-link js-nav\" dir=\"ltr\"><s>#</s><b>painting</b></a>   <a href=\"/hashtag/handdesigned?src=hash\" data-query-source=\"hashtag_click\" class=\"twitter-hashtag pretty-link js-nav\" dir=\"ltr\"><s>#</s><b>handdesigned</b></a>   <a href=\"/hashtag/usa?src=hash\" data-query-source=\"hashtag_click\" class=\"twitter-hashtag pretty-link js-nav\" dir=\"ltr\"><s>#</s><b>usa</b></a>   <a href=\"/hashtag/presidenttrump?src=hash\" data-query-source=\"hashtag_click\" class=\"twitter-hashtag pretty-link js-nav\" dir=\"ltr\"><s>#</s><b>presidenttrump</b></a>   <a href=\"/hashtag/donaldtrump?src=hash\" data-query-source=\"hashtag_click\" class=\"twitter-hashtag pretty-link js-nav\" dir=\"ltr\"><s>#</s><b><strong>donaldtrump</strong></b></a>  C.PO BRANDED! CAP-A-DAP! was a  <a href=\"/hashtag/Tribute?src=hash\" data-query-source=\"hashtag_click\" class=\"twitter-hashtag pretty-link js-nav\" dir=\"ltr\"><s>#</s><b>Tribute</b></a>  &amp;  <a href=\"/hashtag/prediction?src=hash\" data-query-source=\"hashtag_click\" class=\"twitter-hashtag pretty-link js-nav\" dir=\"ltr\"><s>#</s><b>prediction</b></a>  of a  <a href=\"/hashtag/presidental?src=hash\" data-query-source=\"hashtag_click\" class=\"twitter-hashtag pretty-link js-nav\" dir=\"ltr\"><s>#</s><b>presidental</b></a>   <a href=\"/hashtag/win?src=hash\" data-query-source=\"hashtag_click\" class=\"twitter-hashtag pretty-link js-nav\" dir=\"ltr\"><s>#</s><b>win</b></a> . And one handsome head piece. See all sides live @  <a href=\"https://t.co/PtJC83llRA\" rel=\"nofollow noopener\" dir=\"ltr\" data-expanded-url=\"http://facebook.com/c.pobranded/\" class=\"twitter-timeline-link\" target=\"_blank\" title=\"http://facebook.com/c.pobranded/\"><span class=\"tco-ellipsis\"></span><span class=\"invisible\">http://</span><span class=\"js-display-url\">facebook.com/c.pobranded/</span><span class=\"invisible\"></span><span class=\"tco-ellipsis\"><span class=\"invisible\">&nbsp;</span></span></a>   <a href=\"https://t.co/yQOF6P3Bmp\" rel=\"nofollow noopener\" dir=\"ltr\" data-expanded-url=\"https://twitter.com/reggaerapstarCP/status/1005391617983950849/photo/1\" class=\"twitter-timeline-link\" target=\"_blank\" title=\"https://twitter.com/reggaerapstarCP/status/1005391617983950849/photo/1\"><span class=\"tco-ellipsis\"></span><span class=\"invisible\">https://twitter.com/reggaerapstarCP/status/1005391617983950849/photo/1</span><span class=\"js-display-url\">pic.twitter.com/yQOF6P3Bmp</span><span class=\"invisible\"></span><span class=\"tco-ellipsis\"><span class=\"invisible\">&nbsp;</span></span></a>  <a href=\"https://t.co/XepPW1Stww\" class=\"twitter-timeline-link u-hidden\" data-pre-embedded=\"true\" dir=\"ltr\">pic.twitter.com/XepPW1Stww</a> \n"
     ]
    }
   ],
   "source": [
    "print(add_space_between_a_tags(tweets_list[9870]))"
   ]
  },
  {
   "cell_type": "code",
   "execution_count": 57,
   "metadata": {},
   "outputs": [
    {
     "name": "stdout",
     "output_type": "stream",
     "text": [
      "2018-06-09, reggaerapstarCP, https://twitter.com/reggaerapstarCP/status/1005393266530021379, 0, 1, 3, Remember this?This This <a href=\"/hashtag/Original?src=hash\" data-query-source=\"hashtag_click\" class=\"twitter-hashtag pretty-link js-nav\" dir=\"ltr\"><s>#</s><b>Original</b></a> <a href=\"/hashtag/hand?src=hash\" data-query-source=\"hashtag_click\" class=\"twitter-hashtag pretty-link js-nav\" dir=\"ltr\"><s>#</s><b>hand</b></a> <a href=\"/hashtag/painting?src=hash\" data-query-source=\"hashtag_click\" class=\"twitter-hashtag pretty-link js-nav\" dir=\"ltr\"><s>#</s><b>painting</b></a> <a href=\"/hashtag/handdesigned?src=hash\" data-query-source=\"hashtag_click\" class=\"twitter-hashtag pretty-link js-nav\" dir=\"ltr\"><s>#</s><b>handdesigned</b></a> <a href=\"/hashtag/usa?src=hash\" data-query-source=\"hashtag_click\" class=\"twitter-hashtag pretty-link js-nav\" dir=\"ltr\"><s>#</s><b>usa</b></a> <a href=\"/hashtag/presidenttrump?src=hash\" data-query-source=\"hashtag_click\" class=\"twitter-hashtag pretty-link js-nav\" dir=\"ltr\"><s>#</s><b>presidenttrump</b></a> <a href=\"/hashtag/donaldtrump?src=hash\" data-query-source=\"hashtag_click\" class=\"twitter-hashtag pretty-link js-nav\" dir=\"ltr\"><s>#</s><b><strong>donaldtrump</strong></b></a> C.PO BRANDED! CAP-A-DAP! was a <a href=\"/hashtag/Tribute?src=hash\" data-query-source=\"hashtag_click\" class=\"twitter-hashtag pretty-link js-nav\" dir=\"ltr\"><s>#</s><b>Tribute</b></a> &amp; <a href=\"/hashtag/prediction?src=hash\" data-query-source=\"hashtag_click\" class=\"twitter-hashtag pretty-link js-nav\" dir=\"ltr\"><s>#</s><b>prediction</b></a> of a <a href=\"/hashtag/presidental?src=hash\" data-query-source=\"hashtag_click\" class=\"twitter-hashtag pretty-link js-nav\" dir=\"ltr\"><s>#</s><b>presidental</b></a> <a href=\"/hashtag/win?src=hash\" data-query-source=\"hashtag_click\" class=\"twitter-hashtag pretty-link js-nav\" dir=\"ltr\"><s>#</s><b>win</b></a>. And one handsome head piece. See all sides live @ <a href=\"https://t.co/PtJC83llRA\" rel=\"nofollow noopener\" dir=\"ltr\" data-expanded-url=\"http://facebook.com/c.pobranded/\" class=\"twitter-timeline-link\" target=\"_blank\" title=\"http://facebook.com/c.pobranded/\"><span class=\"tco-ellipsis\"></span><span class=\"invisible\">http://</span><span class=\"js-display-url\">facebook.com/c.pobranded/</span><span class=\"invisible\"></span><span class=\"tco-ellipsis\"><span class=\"invisible\">&nbsp;</span></span></a> <a href=\"https://t.co/yQOF6P3Bmp\" rel=\"nofollow noopener\" dir=\"ltr\" data-expanded-url=\"https://twitter.com/reggaerapstarCP/status/1005391617983950849/photo/1\" class=\"twitter-timeline-link\" target=\"_blank\" title=\"https://twitter.com/reggaerapstarCP/status/1005391617983950849/photo/1\"><span class=\"tco-ellipsis\"></span><span class=\"invisible\">https://twitter.com/reggaerapstarCP/status/1005391617983950849/photo/1</span><span class=\"js-display-url\">pic.twitter.com/yQOF6P3Bmp</span><span class=\"invisible\"></span><span class=\"tco-ellipsis\"><span class=\"invisible\">&nbsp;</span></span></a><a href=\"https://t.co/XepPW1Stww\" class=\"twitter-timeline-link u-hidden\" data-pre-embedded=\"true\" dir=\"ltr\">pic.twitter.com/XepPW1Stww</a>\n"
     ]
    }
   ],
   "source": [
    "print(tweets_list[9870])"
   ]
  },
  {
   "cell_type": "code",
   "execution_count": 58,
   "metadata": {},
   "outputs": [],
   "source": [
    "def get_hashtags(tweet):\n",
    "    hashtags = []\n",
    "    pos = tweet.find('#')\n",
    "    while pos != -1:\n",
    "        pos_aux = tweet.find(\" \",pos)\n",
    "        if pos_aux == -1:\n",
    "            break\n",
    "        hashtags.append(tweet[pos:pos_aux])\n",
    "        tweet = tweet[:pos] + ' ' + tweet[pos_aux:]\n",
    "        pos = tweet.find('#',pos + 1)\n",
    "    return hashtags"
   ]
  },
  {
   "cell_type": "code",
   "execution_count": 59,
   "metadata": {},
   "outputs": [
    {
     "name": "stdout",
     "output_type": "stream",
     "text": [
      "['#Nonverbal', '#EmotionalIntelligence', '#DonaldTrump', '#AngelaMerkel', '#Anger', '#BehaviorAnalysis', '#BodyLanguage', '#BodyLanguageExpert', '#Analysis', '#EQ', '#G7']\n"
     ]
    }
   ],
   "source": [
    "print(get_hashtags(\"Body Language Analysis No.4303: Donald Trump, G7 Summit, Women's Empowerment, and Rage -  #Nonverbal &  #EmotionalIntelligence •   •  #DonaldTrump #AngelaMerkel #Anger #BehaviorAnalysis #BodyLanguage #BodyLanguageExpert #Analysis #EQ #G7 #G7Summit\"))"
   ]
  },
  {
   "cell_type": "code",
   "execution_count": 60,
   "metadata": {},
   "outputs": [],
   "source": [
    "def get_mentions(tweet):\n",
    "    mentions = []\n",
    "    pos = tweet.find('@')\n",
    "    while pos != -1:\n",
    "        pos_aux = tweet.find(\" \",pos)\n",
    "        if pos_aux == -1:\n",
    "            break\n",
    "        mentions.append(tweet[pos:pos_aux])\n",
    "        tweet = tweet[:pos] + ' ' + tweet[pos_aux:]\n",
    "        pos = tweet.find('@',pos + 1)\n",
    "    return mentions"
   ]
  },
  {
   "cell_type": "code",
   "execution_count": 61,
   "metadata": {},
   "outputs": [
    {
     "name": "stdout",
     "output_type": "stream",
     "text": [
      "['@lindathomas102', '@louisa_ip', '@maga_417', '@MarcGriff89', '@MarjorieLoy1@Maximus_Paulus', '@MC_Mad_Man', '@mgw81180', '@MrSteveRangel', '@MyMountainTop', '@Namashary', '@netteKnows', '@NotUnderdog', '@NYKchi88']\n"
     ]
    }
   ],
   "source": [
    "print(get_mentions(\"May God Bless you and Bless God for  #DonaldTrump @lindathomas102 @louisa_ip @maga_417 @MarcGriff89 @MarjorieLoy1@Maximus_Paulus @MC_Mad_Man @mgw81180 @MrSteveRangel @MyMountainTop @Namashary @netteKnows @NotUnderdog @NYKchi88 @nykon187@ofarther\"))"
   ]
  },
  {
   "cell_type": "code",
   "execution_count": null,
   "metadata": {},
   "outputs": [],
   "source": []
  },
  {
   "cell_type": "code",
   "execution_count": 62,
   "metadata": {},
   "outputs": [],
   "source": [
    "dates = []\n",
    "user = []\n",
    "status = []\n",
    "comments = []\n",
    "likes = []\n",
    "retweets = []\n",
    "tweet = []\n",
    "tweet_no_html = []\n",
    "hashtags = []\n",
    "mentions = []\n",
    "for tweet_status in tweets_list:\n",
    "    pos = tweet_status.find(',')\n",
    "    dates.append(tweet_status[:pos])\n",
    "    \n",
    "    tweet_status = tweet_status[pos + 1:].strip()\n",
    "    pos = tweet_status.find(',')\n",
    "    user.append(tweet_status[:pos])\n",
    "    \n",
    "    tweet_status = tweet_status[pos + 1:].strip()\n",
    "    pos = tweet_status.find(',')\n",
    "    status.append(tweet_status[:pos])\n",
    "    \n",
    "    tweet_status = tweet_status[pos + 1:].strip()\n",
    "    pos = tweet_status.find(',')\n",
    "    comments.append(tweet_status[:pos])\n",
    "    \n",
    "    tweet_status = tweet_status[pos + 1:].strip()\n",
    "    pos = tweet_status.find(',')\n",
    "    likes.append(tweet_status[:pos])\n",
    "    \n",
    "    tweet_status = tweet_status[pos + 1:].strip()\n",
    "    pos = tweet_status.find(',')\n",
    "    retweets.append(tweet_status[:pos])\n",
    "        \n",
    "    tweet_status = tweet_status[pos + 1:].strip()    \n",
    "    soup = BeautifulSoup(add_space_between_a_tags(tweet_status),'lxml')\n",
    "    \n",
    "    tweet_status_no_html = soup.text\n",
    "    \n",
    "    tweet.append(tweet_status_no_html)\n",
    "    \n",
    "    pos_2 = tweet_status_no_html.find('pic.twitter.com/')\n",
    "    tweet_status_no_html = tweet_status_no_html[:pos_2].strip()\n",
    "    pos_3 = tweet_status_no_html.find('http')\n",
    "    while pos_3 != -1:        \n",
    "        tweet_status_no_html = tweet_status_no_html[:pos_3 - 1] + ' ' + tweet_status_no_html[pos_3:]\n",
    "        pos_3 = tweet_status_no_html.find('http',pos_3 + 1)\n",
    "    tweet_status_no_html = re.sub(r\"http\\S+\", \"\", tweet_status_no_html)\n",
    "    tweet_status_no_html = tweet_status_no_html.strip().replace(\"\\xa0\",\"\")\n",
    "    tweet_no_html.append(tweet_status_no_html)\n",
    "    \n",
    "    hashtags.append(get_hashtags(tweet_status_no_html))\n",
    "    mentions.append(get_mentions(tweet_status_no_html))"
   ]
  },
  {
   "cell_type": "code",
   "execution_count": 67,
   "metadata": {},
   "outputs": [
    {
     "data": {
      "text/plain": [
       "10244"
      ]
     },
     "execution_count": 67,
     "metadata": {},
     "output_type": "execute_result"
    }
   ],
   "source": [
    "len(dates)"
   ]
  },
  {
   "cell_type": "code",
   "execution_count": 83,
   "metadata": {},
   "outputs": [
    {
     "name": "stdout",
     "output_type": "stream",
     "text": [
      "1077\n",
      "2018-01-15 glamelegance https://twitter.com/glamelegance/status/952809523059875840 5 29 1 Dear  #DonaldTrump , Your actions speak much louder than your empty words.  #TrumpisRacist  Dear  #DonaldTrump , Your actions speak much louder than your empty words.  #TrumpisRacist ['#DonaldTrump'] []\n"
     ]
    }
   ],
   "source": [
    "x = randint(0, len(dates))\n",
    "print(x)\n",
    "print(dates[x],user[x],status[x],comments[x],likes[x],retweets[x],tweet[x],tweet_no_html[x],hashtags[x],mentions[x],end=\"\\n\")"
   ]
  },
  {
   "cell_type": "code",
   "execution_count": null,
   "metadata": {},
   "outputs": [],
   "source": [
    "index = 0\n",
    "for i in tweet_no_html:\n",
    "    print(index,':',i)\n",
    "    index = index + 1"
   ]
  },
  {
   "cell_type": "code",
   "execution_count": null,
   "metadata": {},
   "outputs": [],
   "source": [
    "get_hashtags('Keep up the good humor!!  #maga #newyear #2018  #donaldtrump #')"
   ]
  },
  {
   "cell_type": "code",
   "execution_count": null,
   "metadata": {},
   "outputs": [],
   "source": []
  }
 ],
 "metadata": {
  "kernelspec": {
   "display_name": "Python 3",
   "language": "python",
   "name": "python3"
  },
  "language_info": {
   "codemirror_mode": {
    "name": "ipython",
    "version": 3
   },
   "file_extension": ".py",
   "mimetype": "text/x-python",
   "name": "python",
   "nbconvert_exporter": "python",
   "pygments_lexer": "ipython3",
   "version": "3.6.5"
  }
 },
 "nbformat": 4,
 "nbformat_minor": 2
}
